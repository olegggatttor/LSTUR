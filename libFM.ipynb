{
  "nbformat": 4,
  "nbformat_minor": 0,
  "metadata": {
    "colab": {
      "name": "libFM.ipynb",
      "provenance": [],
      "collapsed_sections": []
    },
    "kernelspec": {
      "name": "python3",
      "display_name": "Python 3"
    },
    "language_info": {
      "name": "python"
    },
    "accelerator": "GPU",
    "widgets": {
      "application/vnd.jupyter.widget-state+json": {
        "c71a3783a59a4107ba04bf182353309c": {
          "model_module": "@jupyter-widgets/controls",
          "model_name": "HBoxModel",
          "state": {
            "_view_name": "HBoxView",
            "_dom_classes": [],
            "_model_name": "HBoxModel",
            "_view_module": "@jupyter-widgets/controls",
            "_model_module_version": "1.5.0",
            "_view_count": null,
            "_view_module_version": "1.5.0",
            "box_style": "",
            "layout": "IPY_MODEL_6bcacfb262ba49b381aabc00963cc2d3",
            "_model_module": "@jupyter-widgets/controls",
            "children": [
              "IPY_MODEL_741d79580e52474ea6b3c9af501bfea2",
              "IPY_MODEL_d1dff2a04cc6404292c58f9afccfa697"
            ]
          }
        },
        "6bcacfb262ba49b381aabc00963cc2d3": {
          "model_module": "@jupyter-widgets/base",
          "model_name": "LayoutModel",
          "state": {
            "_view_name": "LayoutView",
            "grid_template_rows": null,
            "right": null,
            "justify_content": null,
            "_view_module": "@jupyter-widgets/base",
            "overflow": null,
            "_model_module_version": "1.2.0",
            "_view_count": null,
            "flex_flow": null,
            "width": null,
            "min_width": null,
            "border": null,
            "align_items": null,
            "bottom": null,
            "_model_module": "@jupyter-widgets/base",
            "top": null,
            "grid_column": null,
            "overflow_y": null,
            "overflow_x": null,
            "grid_auto_flow": null,
            "grid_area": null,
            "grid_template_columns": null,
            "flex": null,
            "_model_name": "LayoutModel",
            "justify_items": null,
            "grid_row": null,
            "max_height": null,
            "align_content": null,
            "visibility": null,
            "align_self": null,
            "height": null,
            "min_height": null,
            "padding": null,
            "grid_auto_rows": null,
            "grid_gap": null,
            "max_width": null,
            "order": null,
            "_view_module_version": "1.2.0",
            "grid_template_areas": null,
            "object_position": null,
            "object_fit": null,
            "grid_auto_columns": null,
            "margin": null,
            "display": null,
            "left": null
          }
        },
        "741d79580e52474ea6b3c9af501bfea2": {
          "model_module": "@jupyter-widgets/controls",
          "model_name": "FloatProgressModel",
          "state": {
            "_view_name": "ProgressView",
            "style": "IPY_MODEL_eb5ee85fa2114768a41975ef224754bf",
            "_dom_classes": [],
            "description": "100%",
            "_model_name": "FloatProgressModel",
            "bar_style": "success",
            "max": 40,
            "_view_module": "@jupyter-widgets/controls",
            "_model_module_version": "1.5.0",
            "value": 40,
            "_view_count": null,
            "_view_module_version": "1.5.0",
            "orientation": "horizontal",
            "min": 0,
            "description_tooltip": null,
            "_model_module": "@jupyter-widgets/controls",
            "layout": "IPY_MODEL_c8bf020c56be48359483c36fa7b8cfbd"
          }
        },
        "d1dff2a04cc6404292c58f9afccfa697": {
          "model_module": "@jupyter-widgets/controls",
          "model_name": "HTMLModel",
          "state": {
            "_view_name": "HTMLView",
            "style": "IPY_MODEL_8e8ed5faa03b4e1cb3950caa0c7625e9",
            "_dom_classes": [],
            "description": "",
            "_model_name": "HTMLModel",
            "placeholder": "​",
            "_view_module": "@jupyter-widgets/controls",
            "_model_module_version": "1.5.0",
            "value": " 40/40 [00:31&lt;00:00,  1.28it/s, loss=0.000355]",
            "_view_count": null,
            "_view_module_version": "1.5.0",
            "description_tooltip": null,
            "_model_module": "@jupyter-widgets/controls",
            "layout": "IPY_MODEL_b44abb17d1aa4c34b17039f22450a77f"
          }
        },
        "eb5ee85fa2114768a41975ef224754bf": {
          "model_module": "@jupyter-widgets/controls",
          "model_name": "ProgressStyleModel",
          "state": {
            "_view_name": "StyleView",
            "_model_name": "ProgressStyleModel",
            "description_width": "initial",
            "_view_module": "@jupyter-widgets/base",
            "_model_module_version": "1.5.0",
            "_view_count": null,
            "_view_module_version": "1.2.0",
            "bar_color": null,
            "_model_module": "@jupyter-widgets/controls"
          }
        },
        "c8bf020c56be48359483c36fa7b8cfbd": {
          "model_module": "@jupyter-widgets/base",
          "model_name": "LayoutModel",
          "state": {
            "_view_name": "LayoutView",
            "grid_template_rows": null,
            "right": null,
            "justify_content": null,
            "_view_module": "@jupyter-widgets/base",
            "overflow": null,
            "_model_module_version": "1.2.0",
            "_view_count": null,
            "flex_flow": null,
            "width": null,
            "min_width": null,
            "border": null,
            "align_items": null,
            "bottom": null,
            "_model_module": "@jupyter-widgets/base",
            "top": null,
            "grid_column": null,
            "overflow_y": null,
            "overflow_x": null,
            "grid_auto_flow": null,
            "grid_area": null,
            "grid_template_columns": null,
            "flex": null,
            "_model_name": "LayoutModel",
            "justify_items": null,
            "grid_row": null,
            "max_height": null,
            "align_content": null,
            "visibility": null,
            "align_self": null,
            "height": null,
            "min_height": null,
            "padding": null,
            "grid_auto_rows": null,
            "grid_gap": null,
            "max_width": null,
            "order": null,
            "_view_module_version": "1.2.0",
            "grid_template_areas": null,
            "object_position": null,
            "object_fit": null,
            "grid_auto_columns": null,
            "margin": null,
            "display": null,
            "left": null
          }
        },
        "8e8ed5faa03b4e1cb3950caa0c7625e9": {
          "model_module": "@jupyter-widgets/controls",
          "model_name": "DescriptionStyleModel",
          "state": {
            "_view_name": "StyleView",
            "_model_name": "DescriptionStyleModel",
            "description_width": "",
            "_view_module": "@jupyter-widgets/base",
            "_model_module_version": "1.5.0",
            "_view_count": null,
            "_view_module_version": "1.2.0",
            "_model_module": "@jupyter-widgets/controls"
          }
        },
        "b44abb17d1aa4c34b17039f22450a77f": {
          "model_module": "@jupyter-widgets/base",
          "model_name": "LayoutModel",
          "state": {
            "_view_name": "LayoutView",
            "grid_template_rows": null,
            "right": null,
            "justify_content": null,
            "_view_module": "@jupyter-widgets/base",
            "overflow": null,
            "_model_module_version": "1.2.0",
            "_view_count": null,
            "flex_flow": null,
            "width": null,
            "min_width": null,
            "border": null,
            "align_items": null,
            "bottom": null,
            "_model_module": "@jupyter-widgets/base",
            "top": null,
            "grid_column": null,
            "overflow_y": null,
            "overflow_x": null,
            "grid_auto_flow": null,
            "grid_area": null,
            "grid_template_columns": null,
            "flex": null,
            "_model_name": "LayoutModel",
            "justify_items": null,
            "grid_row": null,
            "max_height": null,
            "align_content": null,
            "visibility": null,
            "align_self": null,
            "height": null,
            "min_height": null,
            "padding": null,
            "grid_auto_rows": null,
            "grid_gap": null,
            "max_width": null,
            "order": null,
            "_view_module_version": "1.2.0",
            "grid_template_areas": null,
            "object_position": null,
            "object_fit": null,
            "grid_auto_columns": null,
            "margin": null,
            "display": null,
            "left": null
          }
        }
      }
    }
  },
  "cells": [
    {
      "cell_type": "code",
      "metadata": {
        "colab": {
          "base_uri": "https://localhost:8080/"
        },
        "id": "fluGp4pH8C-S",
        "outputId": "3c0f49b4-23bb-4da3-bf6b-66eaf484177f"
      },
      "source": [
        "!pip install implicit\n",
        "!pip install metrics-eval\n",
        "\n",
        "import implicit\n",
        "import pandas as pd\n",
        "import numpy as np\n",
        "from scipy.sparse import csr_matrix\n",
        "from functools import reduce"
      ],
      "execution_count": 103,
      "outputs": [
        {
          "output_type": "stream",
          "text": [
            "Requirement already satisfied: implicit in /usr/local/lib/python3.7/dist-packages (0.4.4)\n",
            "Requirement already satisfied: scipy>=0.16 in /usr/local/lib/python3.7/dist-packages (from implicit) (1.4.1)\n",
            "Requirement already satisfied: tqdm>=4.27 in /usr/local/lib/python3.7/dist-packages (from implicit) (4.41.1)\n",
            "Requirement already satisfied: numpy in /usr/local/lib/python3.7/dist-packages (from implicit) (1.19.5)\n",
            "Requirement already satisfied: metrics-eval in /usr/local/lib/python3.7/dist-packages (0.0.2)\n"
          ],
          "name": "stdout"
        }
      ]
    },
    {
      "cell_type": "markdown",
      "metadata": {
        "id": "RmXF2ubH8RjV"
      },
      "source": [
        "Reading data"
      ]
    },
    {
      "cell_type": "code",
      "metadata": {
        "colab": {
          "base_uri": "https://localhost:8080/"
        },
        "id": "iEzIFuAE8Q7U",
        "outputId": "b00885b1-d68b-42ad-8b3c-b8fecf942b65"
      },
      "source": [
        "behaviors = pd.read_table('behaviors.tsv', usecols=['user_id', 'history', 'impressions'])\n",
        "behaviors.info()"
      ],
      "execution_count": 104,
      "outputs": [
        {
          "output_type": "stream",
          "text": [
            "<class 'pandas.core.frame.DataFrame'>\n",
            "RangeIndex: 73152 entries, 0 to 73151\n",
            "Data columns (total 3 columns):\n",
            " #   Column       Non-Null Count  Dtype \n",
            "---  ------       --------------  ----- \n",
            " 0   user_id      73152 non-null  object\n",
            " 1   history      70938 non-null  object\n",
            " 2   impressions  73152 non-null  object\n",
            "dtypes: object(3)\n",
            "memory usage: 1.7+ MB\n"
          ],
          "name": "stdout"
        }
      ]
    },
    {
      "cell_type": "code",
      "metadata": {
        "colab": {
          "base_uri": "https://localhost:8080/"
        },
        "id": "Sxp8rN6U_Dvh",
        "outputId": "585451a8-f7bd-4bbb-e785-e89bde935e1e"
      },
      "source": [
        "behaviors = behaviors.dropna()\n",
        "behaviors.info()"
      ],
      "execution_count": 105,
      "outputs": [
        {
          "output_type": "stream",
          "text": [
            "<class 'pandas.core.frame.DataFrame'>\n",
            "Int64Index: 70938 entries, 0 to 73151\n",
            "Data columns (total 3 columns):\n",
            " #   Column       Non-Null Count  Dtype \n",
            "---  ------       --------------  ----- \n",
            " 0   user_id      70938 non-null  object\n",
            " 1   history      70938 non-null  object\n",
            " 2   impressions  70938 non-null  object\n",
            "dtypes: object(3)\n",
            "memory usage: 2.2+ MB\n"
          ],
          "name": "stdout"
        }
      ]
    },
    {
      "cell_type": "code",
      "metadata": {
        "id": "-fPNI10HHP_6"
      },
      "source": [
        "def extract_target(news_impression, splitter='-') -> tuple:\n",
        "    \"\"\"\n",
        "    Returns (news, target)\n",
        "    \"\"\"\n",
        "    news, target = news_impression.split(splitter)\n",
        "    return news, np.int(target)\n",
        "\n",
        "def extract_targets(news_impressions, use_news=False, use_target=False) -> dict:\n",
        "    impression_dict = dict(map(extract_target, news_impressions.split()))\n",
        "    if use_news:\n",
        "        return list(impression_dict.keys())\n",
        "    if use_target:\n",
        "        return list(impression_dict.values())\n",
        "\n",
        "    return impression_dict"
      ],
      "execution_count": 106,
      "outputs": []
    },
    {
      "cell_type": "code",
      "metadata": {
        "id": "UTWvzCZaHrYT"
      },
      "source": [
        "behaviors['history'] = behaviors.history.apply(str.split).to_list()\n",
        "behaviors['impression_target']  = behaviors.impressions.apply(extract_targets)\n",
        "behaviors['impression_news'] = behaviors.impressions.apply(lambda x: extract_targets(x, use_news=True))\n",
        "\n",
        "grouped_users = behaviors.groupby('user_id')"
      ],
      "execution_count": 107,
      "outputs": []
    },
    {
      "cell_type": "code",
      "metadata": {
        "id": "C-7Bqxq-NS5H"
      },
      "source": [
        "tags = behaviors['history'].to_list() + behaviors['impression_news'].to_list()\n",
        "tags = set([tag for user_tags in tags for tag in user_tags])\n",
        "\n",
        "news_to_id = dict(zip(tags, range(len(tags))))\n",
        "id_to_news = dict(enumerate(tags))"
      ],
      "execution_count": 108,
      "outputs": []
    },
    {
      "cell_type": "code",
      "metadata": {
        "id": "a79km27SUETo"
      },
      "source": [
        "def merge_dicts(dicts):\n",
        "    return reduce(lambda x, y: {**x, **y}, dicts, {})\n",
        "\n",
        "def merge_history_tags(tags):\n",
        "    dicts = list(map(lambda tag: dict(zip(tag, [1] * len(tag))), tags))\n",
        "    return merge_dicts(dicts)"
      ],
      "execution_count": 109,
      "outputs": []
    },
    {
      "cell_type": "code",
      "metadata": {
        "id": "5h0XzSonPy2Y"
      },
      "source": [
        "user_targets = grouped_users['impression_target'].apply(list).apply(merge_dicts)"
      ],
      "execution_count": 110,
      "outputs": []
    },
    {
      "cell_type": "code",
      "metadata": {
        "id": "0l1k2fGoUYZw"
      },
      "source": [
        "user_to_id = dict(zip(user_targets.index, range(len(user_targets))))\n",
        "id_to_user = dict(enumerate(user_targets.index))"
      ],
      "execution_count": 111,
      "outputs": []
    },
    {
      "cell_type": "code",
      "metadata": {
        "colab": {
          "base_uri": "https://localhost:8080/"
        },
        "id": "b3M0Wq5GUs1B",
        "outputId": "5fc37699-5b0b-472c-a48f-5664d58b5346"
      },
      "source": [
        "history_targets = grouped_users['history'].apply(list).apply(merge_history_tags)\n",
        "history_targets.head()"
      ],
      "execution_count": 112,
      "outputs": [
        {
          "output_type": "execute_result",
          "data": {
            "text/plain": [
              "user_id\n",
              "U1        {'N23571': 1, 'N58267': 1, 'N25682': 1, 'N1064...\n",
              "U10       {'N27612': 1, 'N36699': 1, 'N64777': 1, 'N9120...\n",
              "U10000    {'N10059': 1, 'N46978': 1, 'N53234': 1, 'N3345...\n",
              "U10002    {'N27448': 1, 'N10059': 1, 'N28467': 1, 'N6477...\n",
              "U10004    {'N38118': 1, 'N55805': 1, 'N43482': 1, 'N1540...\n",
              "Name: history, dtype: object"
            ]
          },
          "metadata": {
            "tags": []
          },
          "execution_count": 112
        }
      ]
    },
    {
      "cell_type": "code",
      "metadata": {
        "colab": {
          "base_uri": "https://localhost:8080/",
          "height": 289
        },
        "id": "vMdqaQNreJMk",
        "outputId": "a04584d8-df6b-4f0b-e41e-696f8c0de46b"
      },
      "source": [
        "users = pd.merge(user_targets, history_targets, on='user_id')\n",
        "users['target'] = users[['history', 'impression_target']].apply(lambda x: {**x[0], **x[1]}, axis=1)\n",
        "users = users.reset_index()\n",
        "users.head()"
      ],
      "execution_count": 113,
      "outputs": [
        {
          "output_type": "execute_result",
          "data": {
            "text/html": [
              "<div>\n",
              "<style scoped>\n",
              "    .dataframe tbody tr th:only-of-type {\n",
              "        vertical-align: middle;\n",
              "    }\n",
              "\n",
              "    .dataframe tbody tr th {\n",
              "        vertical-align: top;\n",
              "    }\n",
              "\n",
              "    .dataframe thead th {\n",
              "        text-align: right;\n",
              "    }\n",
              "</style>\n",
              "<table border=\"1\" class=\"dataframe\">\n",
              "  <thead>\n",
              "    <tr style=\"text-align: right;\">\n",
              "      <th></th>\n",
              "      <th>user_id</th>\n",
              "      <th>impression_target</th>\n",
              "      <th>history</th>\n",
              "      <th>target</th>\n",
              "    </tr>\n",
              "  </thead>\n",
              "  <tbody>\n",
              "    <tr>\n",
              "      <th>0</th>\n",
              "      <td>U1</td>\n",
              "      <td>{'N14637': 0, 'N20036': 1}</td>\n",
              "      <td>{'N23571': 1, 'N58267': 1, 'N25682': 1, 'N1064...</td>\n",
              "      <td>{'N23571': 1, 'N58267': 1, 'N25682': 1, 'N1064...</td>\n",
              "    </tr>\n",
              "    <tr>\n",
              "      <th>1</th>\n",
              "      <td>U10</td>\n",
              "      <td>{'N33397': 0, 'N46917': 0, 'N11930': 0, 'N5861...</td>\n",
              "      <td>{'N27612': 1, 'N36699': 1, 'N64777': 1, 'N9120...</td>\n",
              "      <td>{'N27612': 1, 'N36699': 1, 'N64777': 1, 'N9120...</td>\n",
              "    </tr>\n",
              "    <tr>\n",
              "      <th>2</th>\n",
              "      <td>U10000</td>\n",
              "      <td>{'N50775': 1, 'N31958': 1, 'N53572': 0, 'N5472...</td>\n",
              "      <td>{'N10059': 1, 'N46978': 1, 'N53234': 1, 'N3345...</td>\n",
              "      <td>{'N10059': 1, 'N46978': 1, 'N53234': 1, 'N3345...</td>\n",
              "    </tr>\n",
              "    <tr>\n",
              "      <th>3</th>\n",
              "      <td>U10002</td>\n",
              "      <td>{'N759': 0, 'N17647': 0, 'N3159': 0, 'N19990':...</td>\n",
              "      <td>{'N27448': 1, 'N10059': 1, 'N28467': 1, 'N6477...</td>\n",
              "      <td>{'N27448': 1, 'N10059': 1, 'N28467': 1, 'N6477...</td>\n",
              "    </tr>\n",
              "    <tr>\n",
              "      <th>4</th>\n",
              "      <td>U10004</td>\n",
              "      <td>{'N31958': 0, 'N42844': 0, 'N19990': 0, 'N5940...</td>\n",
              "      <td>{'N38118': 1, 'N55805': 1, 'N43482': 1, 'N1540...</td>\n",
              "      <td>{'N38118': 1, 'N55805': 1, 'N43482': 1, 'N1540...</td>\n",
              "    </tr>\n",
              "  </tbody>\n",
              "</table>\n",
              "</div>"
            ],
            "text/plain": [
              "  user_id  ...                                             target\n",
              "0      U1  ...  {'N23571': 1, 'N58267': 1, 'N25682': 1, 'N1064...\n",
              "1     U10  ...  {'N27612': 1, 'N36699': 1, 'N64777': 1, 'N9120...\n",
              "2  U10000  ...  {'N10059': 1, 'N46978': 1, 'N53234': 1, 'N3345...\n",
              "3  U10002  ...  {'N27448': 1, 'N10059': 1, 'N28467': 1, 'N6477...\n",
              "4  U10004  ...  {'N38118': 1, 'N55805': 1, 'N43482': 1, 'N1540...\n",
              "\n",
              "[5 rows x 4 columns]"
            ]
          },
          "metadata": {
            "tags": []
          },
          "execution_count": 113
        }
      ]
    },
    {
      "cell_type": "code",
      "metadata": {
        "colab": {
          "base_uri": "https://localhost:8080/"
        },
        "id": "GNUvdwfbiHhU",
        "outputId": "15b2f0c2-82a7-4581-c7f2-77dd9b60aac6"
      },
      "source": [
        "def get_user_news_sparse_matrix(liked_target=1):\n",
        "    rows, cols = [], []\n",
        "    for _, (user, targets) in users[['user_id', 'history']].iterrows():\n",
        "        user_id   = user_to_id[user]\n",
        "        positives = list(map(lambda kv: news_to_id[kv[0]], filter(lambda kv: kv[1] == liked_target, targets.items())))\n",
        "        rows += [user_id] * len(positives)\n",
        "        cols += positives\n",
        "\n",
        "    return csr_matrix(([liked_target] * len(rows), (rows, cols)), shape=(len(user_to_id), len(news_to_id)))\n",
        "\n",
        "user_news = get_user_news_sparse_matrix()\n",
        "news_user = user_news.T\n",
        "\n",
        "user_news"
      ],
      "execution_count": 114,
      "outputs": [
        {
          "output_type": "execute_result",
          "data": {
            "text/plain": [
              "<48593x42396 sparse matrix of type '<class 'numpy.longlong'>'\n",
              "\twith 1259580 stored elements in Compressed Sparse Row format>"
            ]
          },
          "metadata": {
            "tags": []
          },
          "execution_count": 114
        }
      ]
    },
    {
      "cell_type": "code",
      "metadata": {
        "colab": {
          "base_uri": "https://localhost:8080/",
          "height": 66,
          "referenced_widgets": [
            "c71a3783a59a4107ba04bf182353309c",
            "6bcacfb262ba49b381aabc00963cc2d3",
            "741d79580e52474ea6b3c9af501bfea2",
            "d1dff2a04cc6404292c58f9afccfa697",
            "eb5ee85fa2114768a41975ef224754bf",
            "c8bf020c56be48359483c36fa7b8cfbd",
            "8e8ed5faa03b4e1cb3950caa0c7625e9",
            "b44abb17d1aa4c34b17039f22450a77f"
          ]
        },
        "id": "QeXZ7R8P_nPq",
        "outputId": "aedc221a-ec7c-43d1-abcc-1165b0702625"
      },
      "source": [
        "model = implicit.als.AlternatingLeastSquares(factors=512, \n",
        "                                             regularization=0,\n",
        "                                             iterations=40,\n",
        "                                             calculate_training_loss=True)\n",
        "\n",
        "model.fit(item_users=news_user)"
      ],
      "execution_count": 115,
      "outputs": [
        {
          "output_type": "display_data",
          "data": {
            "application/vnd.jupyter.widget-view+json": {
              "model_id": "c71a3783a59a4107ba04bf182353309c",
              "version_minor": 0,
              "version_major": 2
            },
            "text/plain": [
              "HBox(children=(FloatProgress(value=0.0, max=40.0), HTML(value='')))"
            ]
          },
          "metadata": {
            "tags": []
          }
        },
        {
          "output_type": "stream",
          "text": [
            "\n"
          ],
          "name": "stdout"
        }
      ]
    },
    {
      "cell_type": "code",
      "metadata": {
        "id": "4BdQW0GbvyX8"
      },
      "source": [
        "from sklearn.metrics import ndcg_score, roc_auc_score\n",
        "from metrics_eval import mrr, utils\n",
        "\n",
        "def user_auc(user):\n",
        "    user_id = id_to_user[user]\n",
        "    targets = users[users['user_id'] == user_id]['impression_target'].iloc[0]\n",
        "    news    = list(map(news_to_id.__getitem__, targets.keys()))\n",
        "    y_true  = list(targets.values())\n",
        "    item_factors = model.item_factors[news]\n",
        "    user_factors = model.user_factors[user] \n",
        "    y_score = model.user_factors[user] @ model.item_factors[news].T\n",
        "    return roc_auc_score(y_true, y_score)\n",
        "\n",
        "def user_ndcg(user, k=5):\n",
        "    user_id = id_to_user[user]\n",
        "    targets = users[users['user_id'] == user_id]['impression_target'].iloc[0]\n",
        "    news    = list(map(news_to_id.__getitem__, targets.keys()))\n",
        "    y_true  = list(targets.values())\n",
        "    y_score = model.user_factors[user] @ model.item_factors[news].T \n",
        "    return ndcg_score([y_true], [y_score], k=k)\n",
        "\n",
        "def user_mrr(user):\n",
        "    user_id = id_to_user[user]\n",
        "    targets = users[users['user_id'] == user_id]['impression_target'].iloc[0]\n",
        "    news    = list(map(news_to_id.__getitem__, targets.keys()))\n",
        "    y_true  = np.array(list(targets.values()))\n",
        "    y_score = model.user_factors[user] @ model.item_factors[news].T \n",
        "    return mrr(y_true, y_score)"
      ],
      "execution_count": 125,
      "outputs": []
    },
    {
      "cell_type": "code",
      "metadata": {
        "id": "VOuLdk34d1K7"
      },
      "source": [
        "from tqdm import trange\n",
        "\n",
        "def calc_metric(metric, k=None):\n",
        "    metric_scores = []\n",
        "    for u in trange(users.shape[0]):\n",
        "        if k is None:\n",
        "            metric_score = metric(u)\n",
        "        else:\n",
        "            metric_score = metric(u, k)\n",
        "        metric_scores.append(metric_score)\n",
        "\n",
        "    return np.mean(metric_scores)"
      ],
      "execution_count": 126,
      "outputs": []
    },
    {
      "cell_type": "code",
      "metadata": {
        "id": "lewQg0nHgG2F"
      },
      "source": [
        "def mrr_score():\n",
        "    return calc_metric(metric=user_mrr)\n",
        "\n",
        "def auc():\n",
        "    return calc_metric(metric=user_auc)\n",
        "\n",
        "def ndcg(k):\n",
        "    return calc_metric(metric=user_ndcg, k=k)"
      ],
      "execution_count": 127,
      "outputs": []
    },
    {
      "cell_type": "code",
      "metadata": {
        "colab": {
          "base_uri": "https://localhost:8080/"
        },
        "id": "IJVnTrkXeDwq",
        "outputId": "ce6992cf-c7a8-4828-cd8c-c39d4a2a78fa"
      },
      "source": [
        "ndcg(k=5)"
      ],
      "execution_count": 119,
      "outputs": [
        {
          "output_type": "stream",
          "text": [
            "100%|██████████| 48593/48593 [04:41<00:00, 172.86it/s]\n"
          ],
          "name": "stderr"
        },
        {
          "output_type": "execute_result",
          "data": {
            "text/plain": [
              "0.18723350823000268"
            ]
          },
          "metadata": {
            "tags": []
          },
          "execution_count": 119
        }
      ]
    },
    {
      "cell_type": "code",
      "metadata": {
        "colab": {
          "base_uri": "https://localhost:8080/"
        },
        "id": "WPXpvaw_enE3",
        "outputId": "95a807f9-9116-42ec-dddb-138f2198f478"
      },
      "source": [
        "ndcg(k=10)"
      ],
      "execution_count": 120,
      "outputs": [
        {
          "output_type": "stream",
          "text": [
            "100%|██████████| 48593/48593 [04:39<00:00, 174.16it/s]\n"
          ],
          "name": "stderr"
        },
        {
          "output_type": "execute_result",
          "data": {
            "text/plain": [
              "0.24578133234775634"
            ]
          },
          "metadata": {
            "tags": []
          },
          "execution_count": 120
        }
      ]
    },
    {
      "cell_type": "code",
      "metadata": {
        "colab": {
          "base_uri": "https://localhost:8080/"
        },
        "id": "J8Zg72pRg4T1",
        "outputId": "4ef01e50-6f7a-4cc0-e0d9-ea8b1fd17bc0"
      },
      "source": [
        "auc()"
      ],
      "execution_count": 121,
      "outputs": [
        {
          "output_type": "stream",
          "text": [
            "100%|██████████| 48593/48593 [05:13<00:00, 155.01it/s]\n"
          ],
          "name": "stderr"
        },
        {
          "output_type": "execute_result",
          "data": {
            "text/plain": [
              "0.549"
            ]
          },
          "metadata": {
            "tags": []
          },
          "execution_count": 121
        }
      ]
    },
    {
      "cell_type": "code",
      "metadata": {
        "colab": {
          "base_uri": "https://localhost:8080/"
        },
        "id": "ssmIWDUNNmp1",
        "outputId": "6e89ca99-64d4-4c58-e226-c4461957894b"
      },
      "source": [
        "mrr_score()"
      ],
      "execution_count": 128,
      "outputs": [
        {
          "output_type": "stream",
          "text": [
            "100%|██████████| 48593/48593 [04:12<00:00, 192.19it/s]\n"
          ],
          "name": "stderr"
        },
        {
          "output_type": "execute_result",
          "data": {
            "text/plain": [
              "0.224"
            ]
          },
          "metadata": {
            "tags": []
          },
          "execution_count": 128
        }
      ]
    }
  ]
}